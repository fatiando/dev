{
  "nbformat_minor": 0, 
  "nbformat": 4, 
  "cells": [
    {
      "execution_count": null, 
      "cell_type": "code", 
      "source": [
        "%matplotlib inline"
      ], 
      "outputs": [], 
      "metadata": {
        "collapsed": false
      }
    }, 
    {
      "source": [
        "\nHawaii gravity data\n-------------------\n\nThe :mod:`fatiando.datasets` package includes some data sets to make it easier\nto try things out in Fatiando.\n\nThis example shows the gravity data from Hawaii.\n\n\n"
      ], 
      "cell_type": "markdown", 
      "metadata": {}
    }, 
    {
      "execution_count": null, 
      "cell_type": "code", 
      "source": [
        "from __future__ import print_function\nfrom fatiando.datasets import fetch_hawaii_gravity\nimport numpy as np\nimport matplotlib.pyplot as plt\n\n# Load the gravity data from Hawaii\ndata = fetch_hawaii_gravity()\n\n# The data are packaged in a dictionary. Look at the keys to see what is\n# available.\nprint('Data keys:', data.keys())\n\n# There are some metadata included\nprint('\\nMetadata:\\n')\nprint(data['metadata'])\n\n# Let's plot all of it using the UTM x and y coordinates\nshape = data['shape']\nX, Y = data['x'].reshape(shape)/1000, data['y'].reshape(shape)/1000\n\nfig = plt.figure(figsize=(14, 8))\nplt.rcParams['font.size'] = 10\n\nax = plt.subplot(2, 3, 2)\nax.set_title('Raw gravity of Hawaii')\ntmp = ax.contourf(Y, X, data['gravity'].reshape(shape), 60,\n                  cmap='Reds')\nfig.colorbar(tmp, ax=ax, pad=0, aspect=30).set_label('mGal')\n\nax = plt.subplot(2, 3, 3)\nax.set_title('Topography')\nscale = np.abs([data['topography'].min(), data['topography'].max()]).max()\ntmp = ax.contourf(Y, X, data['topography'].reshape(shape), 60,\n                  cmap='terrain', vmin=-scale, vmax=scale)\nfig.colorbar(tmp, ax=ax, pad=0, aspect=30).set_label('m')\n\nax = plt.subplot(2, 3, 4)\nax.set_title('Gravity disturbance')\nscale = np.abs([data['disturbance'].min(), data['disturbance'].max()]).max()\ntmp = ax.contourf(Y, X, data['disturbance'].reshape(shape), 60,\n                  cmap='RdBu_r', vmin=-scale, vmax=scale)\nfig.colorbar(tmp, ax=ax, pad=0, aspect=30).set_label('mGal')\n\n# The disturbance without the effects of topography (calculated using the\n# Bouguer plate)\nax = plt.subplot(2, 3, 5)\nax.set_title('Topography-free disturbance (Bouguer)')\ntmp = ax.contourf(Y, X, data['topo-free-bouguer'].reshape(shape), 60,\n                  cmap='viridis')\nfig.colorbar(tmp, ax=ax, pad=0, aspect=30).set_label('mGal')\n\n# The disturbance without the effects of topography (calculated using a\n# tesseroid model of the topography)\nax = plt.subplot(2, 3, 6)\nax.set_title('Topography-free disturbance (full)')\ntmp = ax.contourf(Y, X, data['topo-free'].reshape(shape), 60,\n                  cmap='viridis')\nfig.colorbar(tmp, ax=ax, pad=0, aspect=30).set_label('mGal')\n\nplt.tight_layout()\nplt.show()"
      ], 
      "outputs": [], 
      "metadata": {
        "collapsed": false
      }
    }
  ], 
  "metadata": {
    "kernelspec": {
      "display_name": "Python 2", 
      "name": "python2", 
      "language": "python"
    }, 
    "language_info": {
      "mimetype": "text/x-python", 
      "nbconvert_exporter": "python", 
      "name": "python", 
      "file_extension": ".py", 
      "version": "2.7.14", 
      "pygments_lexer": "ipython2", 
      "codemirror_mode": {
        "version": 2, 
        "name": "ipython"
      }
    }
  }
}