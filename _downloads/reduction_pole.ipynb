{
  "nbformat_minor": 0, 
  "nbformat": 4, 
  "cells": [
    {
      "execution_count": null, 
      "cell_type": "code", 
      "source": [
        "%matplotlib inline"
      ], 
      "outputs": [], 
      "metadata": {
        "collapsed": false
      }
    }, 
    {
      "source": [
        "\nReduction to the pole\n---------------------\n\nIf the direction of magnetization is known, you can reduce a measured total\nfield magnetic anomaly to the pole. Function\n:func:`fatiando.gravmag.transform.reduce_to_pole` implements the reduction\nusing the FFT and allows using a magnetization direction that is different from\nthe geomagnetic field direction. This example shows how to use it in this case.\nUse ``sinc=inc`` and ``sdec=dec`` if there is only induced magnetization.\n\n\n"
      ], 
      "cell_type": "markdown", 
      "metadata": {}
    }, 
    {
      "execution_count": null, 
      "cell_type": "code", 
      "source": [
        "from __future__ import division, print_function\nimport matplotlib.pyplot as plt\nfrom fatiando.gravmag import prism, transform\nfrom fatiando.mesher import Prism\nfrom fatiando import gridder, utils\n\n# Create some synthetic magnetic data with a total magnetization that is\n# different from the geomagnetic field (so there is remanent magnetization or\n# some demagnetizing effect)\ninc, dec = -60, 23  # Geomagnetic field direction\nsinc, sdec = -30, -20  # Source magnetization direction\nmag = utils.ang2vec(1, sinc, sdec)\nmodel = [Prism(-1500, 1500, -500, 500, 0, 2000, {'magnetization': mag})]\narea = (-7e3, 7e3, -7e3, 7e3)\nshape = (100, 100)\nx, y, z = gridder.regular(area, shape, z=-300)\ndata = prism.tf(x, y, z, model, inc, dec)\n\n# Reduce to the pole\ndata_at_pole = transform.reduce_to_pole(x, y, data, shape, inc, dec, sinc,\n                                        sdec)\n\n# Make some plots\nplt.figure(figsize=(8, 6))\n\nax = plt.subplot(1, 2, 1)\nax.set_title('Original data')\nax.set_aspect('equal')\ntmp = ax.tricontourf(y/1000, x/1000, data, 30, cmap='RdBu_r')\nplt.colorbar(tmp, pad=0.1, aspect=30, orientation='horizontal').set_label('nT')\nax.set_xlabel('y (km)')\nax.set_ylabel('x (km)')\nax.set_xlim(area[2]/1000, area[3]/1000)\nax.set_ylim(area[0]/1000, area[1]/1000)\n\nax = plt.subplot(1, 2, 2)\nax.set_title('Reduced to the pole')\nax.set_aspect('equal')\ntmp = ax.tricontourf(y/1000, x/1000, data_at_pole, 30, cmap='RdBu_r')\nplt.colorbar(tmp, pad=0.1, aspect=30, orientation='horizontal').set_label('nT')\nax.set_xlabel('y (km)')\nax.set_xlim(area[2]/1000, area[3]/1000)\nax.set_ylim(area[0]/1000, area[1]/1000)\n\nplt.tight_layout()\nplt.show()"
      ], 
      "outputs": [], 
      "metadata": {
        "collapsed": false
      }
    }
  ], 
  "metadata": {
    "kernelspec": {
      "display_name": "Python 2", 
      "name": "python2", 
      "language": "python"
    }, 
    "language_info": {
      "mimetype": "text/x-python", 
      "nbconvert_exporter": "python", 
      "name": "python", 
      "file_extension": ".py", 
      "version": "2.7.14", 
      "pygments_lexer": "ipython2", 
      "codemirror_mode": {
        "version": 2, 
        "name": "ipython"
      }
    }
  }
}