{
  "nbformat_minor": 0, 
  "nbformat": 4, 
  "cells": [
    {
      "execution_count": null, 
      "cell_type": "code", 
      "source": [
        "%matplotlib inline"
      ], 
      "outputs": [], 
      "metadata": {
        "collapsed": false
      }
    }, 
    {
      "source": [
        "\nInterpolate irregular data\n--------------------------\n\nThe functions :func:`fatiando.gridder.interp` and\n:func:`fatiando.gridder.interp_at` offer convenient wrappers around\n``scipy.interpolate.griddata``. The scipy function is more general and can\ninterpolate n-dimensional data. Our functions offer the convenience of\ngenerating the regular grid points and optionally using nearest-neighbor\ninterpolation to extrapolate outside the convex hull of the data points.\n\n"
      ], 
      "cell_type": "markdown", 
      "metadata": {}
    }, 
    {
      "execution_count": null, 
      "cell_type": "code", 
      "source": [
        "from fatiando import gridder\nimport matplotlib.pyplot as plt\nimport numpy as np\n\n# Generate synthetic data measured at random points\narea = (0, 1, 0, 1)\nx, y = gridder.scatter(area, n=500, seed=0)\ndata = x*(1 - x)*np.cos(4*np.pi*x)*np.sin(4*np.pi*y**2)**2\n\n# Say we want to interpolate the data onto a regular grid with a given shape\nshape = (100, 200)\n\n# The gridder.interp function takes care of selecting the containing area of\n# the data and generating the regular grid for us.\n# Let's interpolate using the different options offered by gridddata and plot\n# them all.\n\nplt.figure(figsize=(10, 8))\n\nxp, yp, nearest = gridder.interp(x, y, data, shape, algorithm='nearest')\nplt.subplot(2, 2, 1)\nplt.title('Nearest-neighbors')\nplt.contourf(yp.reshape(shape), xp.reshape(shape), nearest.reshape(shape),\n             30, cmap='RdBu_r')\n\nxp, yp, linear = gridder.interp(x, y, data, shape, algorithm='linear')\nplt.subplot(2, 2, 2)\nplt.title('Linear')\nplt.contourf(yp.reshape(shape), xp.reshape(shape), linear.reshape(shape),\n             30, cmap='RdBu_r')\n\nxp, yp, cubic = gridder.interp(x, y, data, shape, algorithm='cubic')\nplt.subplot(2, 2, 3)\nplt.title('Cubic')\nplt.contourf(yp.reshape(shape), xp.reshape(shape), cubic.reshape(shape),\n             30, cmap='RdBu_r')\n\n# Notice that the cubic and linear interpolation leave empty the points that\n# are outside the convex hull (bounding region) of the original scatter data.\n# These data points will have NaN values or be masked in the data array, which\n# can cause some problems for processing and inversion (any FFT operation in\n# fatiando.gravmag will fail, for example). Use \"extrapolate=True\" to use\n# nearest-neighbors to fill in those missing points.\nxp, yp, cubic_ext = gridder.interp(x, y, data, shape, algorithm='cubic',\n                                   extrapolate=True)\nplt.subplot(2, 2, 4)\nplt.title('Cubic with extrapolation')\nplt.contourf(yp.reshape(shape), xp.reshape(shape), cubic_ext.reshape(shape),\n             30, cmap='RdBu_r')\n\nplt.tight_layout()\nplt.show()"
      ], 
      "outputs": [], 
      "metadata": {
        "collapsed": false
      }
    }
  ], 
  "metadata": {
    "kernelspec": {
      "display_name": "Python 2", 
      "name": "python2", 
      "language": "python"
    }, 
    "language_info": {
      "mimetype": "text/x-python", 
      "nbconvert_exporter": "python", 
      "name": "python", 
      "file_extension": ".py", 
      "version": "2.7.14", 
      "pygments_lexer": "ipython2", 
      "codemirror_mode": {
        "version": 2, 
        "name": "ipython"
      }
    }
  }
}