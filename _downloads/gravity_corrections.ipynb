{
  "nbformat_minor": 0, 
  "nbformat": 4, 
  "cells": [
    {
      "execution_count": null, 
      "cell_type": "code", 
      "source": [
        "%matplotlib inline"
      ], 
      "outputs": [], 
      "metadata": {
        "collapsed": false
      }
    }, 
    {
      "source": [
        "\nGravity corrections (normal gravity and Bouguer)\n------------------------------------------------------\n\nThe :mod:`fatiando.gravmag` package has function for performing gravity\ncorrections to obtain the gravity disturbance (measured gravity minus normal\ngravity). Particularly, there are functions for calculating normal gravity at\nany height using a closed-form formula instead of using the free-air\napproximation.\n\nThis example calculates the gravity disturbance and the topography-free\ndisturbance (what is usually called the \"Bouguer anomaly\" in geophysics) using\nraw gravity data from Hawaii.\n\n\n"
      ], 
      "cell_type": "markdown", 
      "metadata": {}
    }, 
    {
      "execution_count": null, 
      "cell_type": "code", 
      "source": [
        "from fatiando.datasets import fetch_hawaii_gravity\nfrom fatiando.gravmag import normal_gravity\nimport numpy as np\nimport matplotlib.pyplot as plt\n\n# Load gravity data from Hawaii\ndata = fetch_hawaii_gravity()\n\n# Use the closed form of the normal gravity to calculate\n# it at the observation height. This is better than using\n# the free-air approximation.\ngamma = normal_gravity.gamma_closed_form(data['lat'], data['height'])\ndisturbance = data['gravity'] - gamma\n# Use a Bouguer plate to remove the effect of topography\nbouguer = disturbance - normal_gravity.bouguer_plate(data['topography'])\n\n# Plot the data using the UTM coordinates (x is North and y is East)\nshape = data['shape']\nx, y = data['x'].reshape(shape), data['y'].reshape(shape)\n\nfig, axes = plt.subplots(2, 2, figsize=(10, 9))\nplt.rcParams['font.size'] = 10\n\nax = axes[0, 0]\nax.set_title('Raw gravity of Hawaii')\ntmp = ax.contourf(y/1000, x/1000, data['gravity'].reshape(shape), 60,\n                  cmap='Reds')\nfig.colorbar(tmp, ax=ax, pad=0, aspect=30).set_label('mGal')\n\nax = axes[0, 1]\nax.set_title('Topography')\nscale = np.abs([data['topography'].min(), data['topography'].max()]).max()\ntmp = ax.contourf(y/1000, x/1000, data['topography'].reshape(shape), 60,\n                  cmap='terrain', vmin=-scale, vmax=scale)\nfig.colorbar(tmp, ax=ax, pad=0, aspect=30).set_label('m')\n\nax = axes[1, 0]\nax.set_title('Gravity disturbance')\nscale = np.abs([disturbance.min(), disturbance.max()]).max()\ntmp = ax.contourf(y/1000, x/1000, disturbance.reshape(shape), 60,\n                  cmap='RdBu_r', vmin=-scale, vmax=scale)\nfig.colorbar(tmp, ax=ax, pad=0, aspect=30).set_label('mGal')\n\nax = axes[1, 1]\nax.set_title('Topography-free disturbance')\ntmp = ax.contourf(y/1000, x/1000, bouguer.reshape(shape), 60, cmap='viridis')\nfig.colorbar(tmp, ax=ax, pad=0, aspect=30).set_label('mGal')\n\nplt.tight_layout()\nplt.show()"
      ], 
      "outputs": [], 
      "metadata": {
        "collapsed": false
      }
    }
  ], 
  "metadata": {
    "kernelspec": {
      "display_name": "Python 2", 
      "name": "python2", 
      "language": "python"
    }, 
    "language_info": {
      "mimetype": "text/x-python", 
      "nbconvert_exporter": "python", 
      "name": "python", 
      "file_extension": ".py", 
      "version": "2.7.14", 
      "pygments_lexer": "ipython2", 
      "codemirror_mode": {
        "version": 2, 
        "name": "ipython"
      }
    }
  }
}