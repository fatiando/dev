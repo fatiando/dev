{
  "nbformat_minor": 0, 
  "nbformat": 4, 
  "cells": [
    {
      "execution_count": null, 
      "cell_type": "code", 
      "source": [
        "%matplotlib inline"
      ], 
      "outputs": [], 
      "metadata": {
        "collapsed": false
      }
    }, 
    {
      "source": [
        "\nForward modeling gravity data using spheres in Cartesian coordinates\n--------------------------------------------------------------------\n\nThe :mod:`fatiando.gravmag` has many functions for forward modeling gravity and\nmagnetic data. Here we'll show how to build a model out of spheres and\ncalculate the gravitational attraction and it's gradients in Cartesian\ncoordinates.\n\n\n"
      ], 
      "cell_type": "markdown", 
      "metadata": {}
    }, 
    {
      "execution_count": null, 
      "cell_type": "code", 
      "source": [
        "from __future__ import division, print_function\nfrom fatiando import mesher, gridder, utils\nfrom fatiando.gravmag import sphere\nimport matplotlib.pyplot as plt\nimport numpy as np\n\n# Create a model using geometric objects from fatiando.mesher\n# Each model element has a dictionary with its physical properties.\n# We'll use two spheres with opposite density contrast values.\nmodel = [mesher.Sphere(x=10e3, y=10e3, z=1.5e3, radius=1.5e3,\n                       props={'density': 500}),\n         mesher.Sphere(x=20e3, y=20e3, z=1.5e3, radius=1.5e3,\n                       props={'density': -500})]\n\n# Create a regular grid at a constant height\nshape = (300, 300)\narea = [0, 30e3, 0, 30e3]\nx, y, z = gridder.regular(area, shape, z=-100)\n\nfields = [\n    ['Gravity (mGal)', sphere.gz(x, y, z, model)],\n    ['gxx (Eotvos)', sphere.gxx(x, y, z, model)],\n    ['gyy (Eotvos)', sphere.gyy(x, y, z, model)],\n    ['gzz (Eotvos)', sphere.gzz(x, y, z, model)],\n    ['gxy (Eotvos)', sphere.gxy(x, y, z, model)],\n    ['gxz (Eotvos)', sphere.gxz(x, y, z, model)],\n    ['gyz (Eotvos)', sphere.gyz(x, y, z, model)],\n]\n\n# Make maps of all fields calculated\nfig = plt.figure(figsize=(10, 8))\nplt.rcParams['font.size'] = 10\nX, Y = x.reshape(shape)/1000, y.reshape(shape)/1000\nfor i, tmp in enumerate(fields):\n    ax = plt.subplot(3, 3, i + 3)\n    field, data = tmp\n    scale = np.abs([data.min(), data.max()]).max()\n    ax.set_title(field)\n    plot = ax.pcolormesh(Y, X, data.reshape(shape), cmap='RdBu_r',\n                         vmin=-scale, vmax=scale)\n    plt.colorbar(plot, ax=ax, aspect=30, pad=0)\n    ax.set_xlabel('y (km)')\n    ax.set_ylabel('x (km)')\nplt.tight_layout(pad=0.5)\nplt.show()"
      ], 
      "outputs": [], 
      "metadata": {
        "collapsed": false
      }
    }
  ], 
  "metadata": {
    "kernelspec": {
      "display_name": "Python 2", 
      "name": "python2", 
      "language": "python"
    }, 
    "language_info": {
      "mimetype": "text/x-python", 
      "nbconvert_exporter": "python", 
      "name": "python", 
      "file_extension": ".py", 
      "version": "2.7.14", 
      "pygments_lexer": "ipython2", 
      "codemirror_mode": {
        "version": 2, 
        "name": "ipython"
      }
    }
  }
}