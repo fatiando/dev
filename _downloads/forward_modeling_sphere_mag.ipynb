{
  "nbformat_minor": 0, 
  "nbformat": 4, 
  "cells": [
    {
      "execution_count": null, 
      "cell_type": "code", 
      "source": [
        "%matplotlib inline"
      ], 
      "outputs": [], 
      "metadata": {
        "collapsed": false
      }
    }, 
    {
      "source": [
        "\nForward modeling magnetic data using spheres in Cartesian coordinates\n-----------------------------------------------------------------------\n\nThe :mod:`fatiando.gravmag` has many functions for forward modeling gravity and\nmagnetic data. Here we'll show how to build a model out of spheres and\ncalculate the total field magnetic anomaly and the 3 components of the magnetic\ninduction.\n\n"
      ], 
      "cell_type": "markdown", 
      "metadata": {}
    }, 
    {
      "execution_count": null, 
      "cell_type": "code", 
      "source": [
        "from __future__ import division, print_function\nfrom fatiando import mesher, gridder, utils\nfrom fatiando.gravmag import sphere\nimport matplotlib.pyplot as plt\nimport numpy as np\n\n# Create a model using geometric objects from fatiando.mesher\n# Each model element has a dictionary with its physical properties.\n# The spheres have different total magnetization vectors (total = induced +\n# remanent + any other effects). Notice that the magnetization has to be a\n# vector. Function utils.ang2vec converts intensity, inclination, and\n# declination into a 3 component vector for easier handling.\nmodel = [\n    mesher.Sphere(x=10e3, y=10e3, z=2e3, radius=1.5e3,\n                  props={'magnetization': utils.ang2vec(1, inc=50, dec=-30)}),\n    mesher.Sphere(x=20e3, y=20e3, z=2e3, radius=1.5e3,\n                  props={'magnetization': utils.ang2vec(1, inc=-70, dec=30)})]\n\n# Set the inclination and declination of the geomagnetic field.\ninc, dec = -10, 13\n# Create a regular grid at a constant height\nshape = (300, 300)\narea = [0, 30e3, 0, 30e3]\nx, y, z = gridder.regular(area, shape, z=-10)\n\nfields = [\n    ['Total field Anomaly (nt)', sphere.tf(x, y, z, model, inc, dec)],\n    ['Bx (nT)', sphere.bx(x, y, z, model)],\n    ['By (nT)', sphere.by(x, y, z, model)],\n    ['Bz (nT)', sphere.bz(x, y, z, model)],\n]\n\n# Make maps of all fields calculated\nfig = plt.figure(figsize=(7, 6))\nplt.rcParams['font.size'] = 10\nX, Y = x.reshape(shape)/1000, y.reshape(shape)/1000\nfor i, tmp in enumerate(fields):\n    ax = plt.subplot(2, 2, i + 1)\n    field, data = tmp\n    scale = np.abs([data.min(), data.max()]).max()\n    ax.set_title(field)\n    plot = ax.pcolormesh(Y, X, data.reshape(shape), cmap='RdBu_r',\n                         vmin=-scale, vmax=scale)\n    plt.colorbar(plot, ax=ax, aspect=30, pad=0)\n    ax.set_xlabel('y (km)')\n    ax.set_ylabel('x (km)')\nplt.tight_layout(pad=0.5)\nplt.show()"
      ], 
      "outputs": [], 
      "metadata": {
        "collapsed": false
      }
    }
  ], 
  "metadata": {
    "kernelspec": {
      "display_name": "Python 2", 
      "name": "python2", 
      "language": "python"
    }, 
    "language_info": {
      "mimetype": "text/x-python", 
      "nbconvert_exporter": "python", 
      "name": "python", 
      "file_extension": ".py", 
      "version": "2.7.14", 
      "pygments_lexer": "ipython2", 
      "codemirror_mode": {
        "version": 2, 
        "name": "ipython"
      }
    }
  }
}