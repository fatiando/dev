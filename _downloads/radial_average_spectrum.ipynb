{
  "nbformat_minor": 0, 
  "nbformat": 4, 
  "cells": [
    {
      "execution_count": null, 
      "cell_type": "code", 
      "source": [
        "%matplotlib inline"
      ], 
      "outputs": [], 
      "metadata": {
        "collapsed": false
      }
    }, 
    {
      "source": [
        "\nRadial Average Power Spectrum\n-----------------------------\n\nThis example uses the Hawaii gravity data to compute the radial average of its\npower spectrum.\n\n\n"
      ], 
      "cell_type": "markdown", 
      "metadata": {}
    }, 
    {
      "execution_count": null, 
      "cell_type": "code", 
      "source": [
        "from __future__ import division, print_function\nfrom fatiando import mesher, gridder, utils\nfrom fatiando.datasets import fetch_hawaii_gravity\nfrom fatiando.gravmag import transform\nimport matplotlib.pyplot as plt\nimport numpy as np\n\n# Fetch Hawaii data\ndata = fetch_hawaii_gravity()\n\n# When the data is projected using UTM zone 4, it is no longer regular gridded.\n# We must regrid it.\narea = (1.483e6, 3.079e6, -60e3, 1.326e6)\nshape = (77, 67)\nx, y, gravity = gridder.interp(data['x'], data['y'],\n                               data['topo-free'],\n                               shape, area=area)\n\n# Lets compute the Power Density Spectra (2d arrays)\nkx, ky, pds = transform.power_density_spectra(x, y, gravity, shape)\n\n# And then compute the radial average of the PDS\nk_radial, pds_radial = transform.radial_average_spectrum(kx, ky, pds)\n\n# Plot Hawaii gravity and radially averaged power spectrum\nfig, (ax1, ax2) = plt.subplots(1, 2, figsize=(9, 4))\ncm = ax1.contourf(y.reshape(shape),\n                  x.reshape(shape),\n                  gravity.reshape(shape), 100)\nax1.contour(y.reshape(shape),\n            x.reshape(shape),\n            gravity.reshape(shape),\n            8, colors='k', linewidths=0.4)\nax1.set_aspect('equal')\nax1.set_xlabel('m')\nax1.set_ylabel('m')\nax1.ticklabel_format(axis='x', style='sci', scilimits=(1, 1))\nax1.ticklabel_format(axis='y', style='sci', scilimits=(1, 1))\nplt.colorbar(cm, ax=ax1, label='mGal')\n\nax2.plot(k_radial, np.log(pds_radial), 'o-')\nax2.ticklabel_format(axis='x', style='sci', scilimits=(1, 1))\nax2.set_xlabel(\"k [m$^{-1}$]\")\nax2.set_ylabel(\"log(PDS)\")\nplt.tight_layout()\nplt.show()"
      ], 
      "outputs": [], 
      "metadata": {
        "collapsed": false
      }
    }
  ], 
  "metadata": {
    "kernelspec": {
      "display_name": "Python 2", 
      "name": "python2", 
      "language": "python"
    }, 
    "language_info": {
      "mimetype": "text/x-python", 
      "nbconvert_exporter": "python", 
      "name": "python", 
      "file_extension": ".py", 
      "version": "2.7.14", 
      "pygments_lexer": "ipython2", 
      "codemirror_mode": {
        "version": 2, 
        "name": "ipython"
      }
    }
  }
}