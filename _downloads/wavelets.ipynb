{
  "nbformat_minor": 0, 
  "nbformat": 4, 
  "cells": [
    {
      "execution_count": null, 
      "cell_type": "code", 
      "source": [
        "%matplotlib inline"
      ], 
      "outputs": [], 
      "metadata": {
        "collapsed": false
      }
    }, 
    {
      "source": [
        "\nWavelets for seismic modeling\n-----------------------------\n\nThe :mod:`fatiando.seismic` package defines classes to evaluate and sample\nwavelets. Here is an example of how to use the\n:class:`~fatiando.seismic.RickerWavelet` class.\n\n"
      ], 
      "cell_type": "markdown", 
      "metadata": {}
    }, 
    {
      "execution_count": null, 
      "cell_type": "code", 
      "source": [
        "import matplotlib.pyplot as plt\nimport numpy as np\nfrom fatiando.seismic import RickerWavelet\n\n# Make three wavelets to show how to evaluate them at given times.\nw1 = RickerWavelet(f=5)\nw2 = RickerWavelet(f=1, delay=0)\nw3 = RickerWavelet(f=10, amp=-0.5, delay=0.7)\n\ntimes = np.linspace(0, 1, 200)\n# Call the wavelets like functions to get their values\nv1 = w1(times)\nv2 = w2(times)\nv3 = w3(times)\n\n# You can also sample the wavelets with a given time interval (dt). The default\n# duration of the sampling is 2*delay, which guarantees that the whole wavelet\n# is sampled.\nw = RickerWavelet(f=60)\nsamples = w.sample(dt=0.001)\n\nplt.figure(figsize=(8, 5))\n\nax = plt.subplot(1, 2, 1)\nax.set_title('Ricker wavelets')\nax.plot(times, v1, '-', label='f=5')\nax.plot(times, v2, '--', label='f=1')\nax.plot(times, v3, '-.', label='f=10')\nax.grid()\nax.legend()\nax.set_ylabel('Amplitude')\nax.set_xlabel('time (s)')\n\nax = plt.subplot(1, 2, 2)\nax.set_title('Wavelet sampled at 0.001s')\nax.plot(samples, '.k')\nax.grid()\nax.set_ylabel('Amplitude')\nax.set_xlabel('sample number')\n\nplt.tight_layout()\nplt.show()"
      ], 
      "outputs": [], 
      "metadata": {
        "collapsed": false
      }
    }
  ], 
  "metadata": {
    "kernelspec": {
      "display_name": "Python 2", 
      "name": "python2", 
      "language": "python"
    }, 
    "language_info": {
      "mimetype": "text/x-python", 
      "nbconvert_exporter": "python", 
      "name": "python", 
      "file_extension": ".py", 
      "version": "2.7.14", 
      "pygments_lexer": "ipython2", 
      "codemirror_mode": {
        "version": 2, 
        "name": "ipython"
      }
    }
  }
}