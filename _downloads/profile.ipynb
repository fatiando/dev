{
  "nbformat_minor": 0, 
  "nbformat": 4, 
  "cells": [
    {
      "execution_count": null, 
      "cell_type": "code", 
      "source": [
        "%matplotlib inline"
      ], 
      "outputs": [], 
      "metadata": {
        "collapsed": false
      }
    }, 
    {
      "source": [
        "\nExtracting a profile from spacial data\n========================================\n\nThe function :func:`fatiando.gridder.profile` can be used to extract a profile\nof data from a map. It interpolates the data onto the profile points so you can\nspecify the profile in any direction and use irregular point data as input.\n\n"
      ], 
      "cell_type": "markdown", 
      "metadata": {}
    }, 
    {
      "execution_count": null, 
      "cell_type": "code", 
      "source": [
        "import matplotlib.pyplot as plt\nimport numpy as np\nfrom fatiando import gridder, utils\n\n# Generate random points\nx, y = gridder.scatter((-2, 2, -2, 2), n=1000, seed=1)\n# And calculate 2D Gaussians on these points as sample data\ndata = 2*utils.gaussian2d(x, y, -0.6, -1) - utils.gaussian2d(x, y, 1.5, 1.5)\n\n# Extract a profile between points 1 and 2\np1, p2 = [-1.5, -0.5], [1.5, 1.5]\nxp, yp, distance, profile = gridder.profile(x, y, data, p1, p2, 100)\n\n# Plot the profile and the original map data\nplt.figure()\nplt.subplot(2, 1, 1)\nplt.title('Extracted profile points')\nplt.plot(distance, profile, '.k')\nplt.xlim(distance.min(), distance.max())\nplt.grid()\nplt.subplot(2, 1, 2)\nplt.title(\"Original data\")\nplt.plot(xp, yp, '-k', label='Profile', linewidth=2)\nscale = np.abs([data.min(), data.max()]).max()\nplt.tricontourf(x, y, data, 50, cmap='RdBu_r', vmin=-scale, vmax=scale)\nplt.colorbar(orientation='horizontal', aspect=50)\nplt.legend(loc='lower right')\nplt.tight_layout()\nplt.show()"
      ], 
      "outputs": [], 
      "metadata": {
        "collapsed": false
      }
    }
  ], 
  "metadata": {
    "kernelspec": {
      "display_name": "Python 2", 
      "name": "python2", 
      "language": "python"
    }, 
    "language_info": {
      "mimetype": "text/x-python", 
      "nbconvert_exporter": "python", 
      "name": "python", 
      "file_extension": ".py", 
      "version": "2.7.14", 
      "pygments_lexer": "ipython2", 
      "codemirror_mode": {
        "version": 2, 
        "name": "ipython"
      }
    }
  }
}