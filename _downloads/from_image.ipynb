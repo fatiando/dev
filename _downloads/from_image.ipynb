{
  "nbformat_minor": 0, 
  "nbformat": 4, 
  "cells": [
    {
      "execution_count": null, 
      "cell_type": "code", 
      "source": [
        "%matplotlib inline"
      ], 
      "outputs": [], 
      "metadata": {
        "collapsed": false
      }
    }, 
    {
      "source": [
        "\nCreate a model based on an image file\n-------------------------------------\n\nFunction :func:`fatiando.datasets.from_image` allows us to create a model\ntemplate from an image file. We can use it to assign a physical property value\nto each color of an image. The model can later be fed to a forward modeling\nfunction to produce synthetic data or even as a starting estimate for an\ninversion.\n\n"
      ], 
      "cell_type": "markdown", 
      "metadata": {}
    }, 
    {
      "execution_count": null, 
      "cell_type": "code", 
      "source": [
        "from fatiando import datasets\nimport matplotlib.pyplot as plt\n\n# Use a sample image packaged with Fatiando for this example\ntemplate = datasets.from_image(datasets.SAMPLE_IMAGE)\n\n# Use the template to assign velocity values to each color of the image\nmodel = template.copy()\nmodel[template == 0] = 3000\nmodel[template == 1] = 6000\nmodel[template == 2] = 0\nmodel[template == 3] = 8000\n\n# Now we can plot our velocity model\nplt.figure(figsize=(7, 5.5))\nplt.title('Velocity model')\nplt.imshow(model, cmap=\"viridis\")\nplt.colorbar(pad=0, aspect=40).set_label('velocity (m/s)')\nplt.tight_layout()\nplt.show()"
      ], 
      "outputs": [], 
      "metadata": {
        "collapsed": false
      }
    }
  ], 
  "metadata": {
    "kernelspec": {
      "display_name": "Python 2", 
      "name": "python2", 
      "language": "python"
    }, 
    "language_info": {
      "mimetype": "text/x-python", 
      "nbconvert_exporter": "python", 
      "name": "python", 
      "file_extension": ".py", 
      "version": "2.7.14", 
      "pygments_lexer": "ipython2", 
      "codemirror_mode": {
        "version": 2, 
        "name": "ipython"
      }
    }
  }
}