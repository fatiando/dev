{
  "nbformat_minor": 0, 
  "nbformat": 4, 
  "cells": [
    {
      "execution_count": null, 
      "cell_type": "code", 
      "source": [
        "%matplotlib inline"
      ], 
      "outputs": [], 
      "metadata": {
        "collapsed": false
      }
    }, 
    {
      "source": [
        "\nPotential field imaging through the Generalized Inverse method\n---------------------------------------------------------------\n\nModule :mod:`fatiando.gravmag.imaging` has functions for imaging methods in\npotential fields. These methods produce an image of the subsurface without\ndoing an inversion. However, there is a tradeoff with the quality of the result\nbeing generally inferior to an inversion result.\n\nHere we'll show how the Generalized Inverse imaging method can be used on some\nsynthetic data. We'll plot the final result as slices across the x, y, z axis.\n\n"
      ], 
      "cell_type": "markdown", 
      "metadata": {}
    }, 
    {
      "execution_count": null, 
      "cell_type": "code", 
      "source": [
        "from __future__ import division\nfrom fatiando import gridder, mesher\nfrom fatiando.gravmag import prism, imaging\nfrom fatiando.vis.mpl import square\nimport matplotlib.pyplot as plt\nimport numpy as np\n\n# Make some synthetic gravity data from a simple prism model\nmodel = [mesher.Prism(-1000, 1000, -3000, 3000, 0, 2000, {'density': 800})]\nshape = (25, 25)\nxp, yp, zp = gridder.regular((-5000, 5000, -5000, 5000), shape, z=-10)\ndata = prism.gz(xp, yp, zp, model)\n\n# Run the Generalized Inverse\nmesh = imaging.geninv(xp, yp, zp, data, shape, zmin=0, zmax=5000, nlayers=25)\n\n# Plot the results\nfig = plt.figure()\n\nX, Y = xp.reshape(shape)/1000, yp.reshape(shape)/1000\nimage = mesh.props['density'].reshape(mesh.shape)\n\n# First plot the original gravity data\nax = plt.subplot(2, 2, 1)\nax.set_title('Gravity data (mGal)')\nax.set_aspect('equal')\nscale = np.abs([data.min(), data.max()]).max()\ntmp = ax.contourf(Y, X, data.reshape(shape), 30, cmap=\"RdBu_r\", vmin=-scale,\n                  vmax=scale)\nplt.colorbar(tmp, ax=ax, pad=0)\nax.set_xlim(Y.min(), Y.max())\nax.set_ylim(X.min(), X.max())\nax.set_xlabel('y (km)')\nax.set_ylabel('x (km)')\n\n# Then plot model slices in the x, y, z directions through the middle of the\n# model. Also show the outline of the true model for comparison.\nscale = 0.1*np.abs([image.min(), image.max()]).max()\nx = mesh.get_xs()/1000\ny = mesh.get_ys()/1000\nz = mesh.get_zs()/1000\nx1, x2, y1, y2, z1, z2 = np.array(model[0].get_bounds())/1000\n\nax = plt.subplot(2, 2, 2)\nax.set_title('Model slice at z={} km'.format(z[len(z)//2]))\nax.set_aspect('equal')\nax.pcolormesh(y, x, image[mesh.shape[0]//2, :, :], cmap=\"cubehelix\",\n              vmin=-scale, vmax=scale)\nsquare([y1, y2, x1, x2])\nax.set_ylim(x.min(), x.max())\nax.set_xlim(y.min(), y.max())\nax.set_xlabel('y (km)')\nax.set_ylabel('x (km)')\n\nax = plt.subplot(2, 2, 3)\nax.set_title('Model slice at y={} km'.format(y[len(y)//2]))\nax.set_aspect('equal')\nax.pcolormesh(x, z, image[:, :, mesh.shape[1]//2], cmap=\"cubehelix\",\n              vmin=-scale, vmax=scale)\nsquare([x1, x2, z1, z2])\nax.set_ylim(z.max(), z.min())\nax.set_xlim(x.min(), x.max())\nax.set_xlabel('x (km)')\nax.set_ylabel('z (km)')\n\nax = plt.subplot(2, 2, 4)\nax.set_title('Model slice at x={} km'.format(x[len(x)//2]))\nax.set_aspect('equal')\nax.pcolormesh(y, z, image[:, mesh.shape[2]//2, :], cmap=\"cubehelix\",\n              vmin=-scale, vmax=scale)\nsquare([y1, y2, z1, z2])\nax.set_ylim(z.max(), z.min())\nax.set_xlim(y.min(), y.max())\nax.set_xlabel('y (km)')\nax.set_ylabel('z (km)')\n\nplt.tight_layout()\nplt.show()"
      ], 
      "outputs": [], 
      "metadata": {
        "collapsed": false
      }
    }
  ], 
  "metadata": {
    "kernelspec": {
      "display_name": "Python 2", 
      "name": "python2", 
      "language": "python"
    }, 
    "language_info": {
      "mimetype": "text/x-python", 
      "nbconvert_exporter": "python", 
      "name": "python", 
      "file_extension": ".py", 
      "version": "2.7.14", 
      "pygments_lexer": "ipython2", 
      "codemirror_mode": {
        "version": 2, 
        "name": "ipython"
      }
    }
  }
}