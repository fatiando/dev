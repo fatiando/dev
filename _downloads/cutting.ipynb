{
  "nbformat_minor": 0, 
  "nbformat": 4, 
  "cells": [
    {
      "execution_count": null, 
      "cell_type": "code", 
      "source": [
        "%matplotlib inline"
      ], 
      "outputs": [], 
      "metadata": {
        "collapsed": false
      }
    }, 
    {
      "source": [
        "\nCutting a section from spacial data\n-----------------------------------\n\nThe :func:`fatiando.gridder.cut` function extracts points from spatially\ndistributed  data that are inside a given area. It doesn't matter whether or\nnot the points are on a regular grid.\n\n"
      ], 
      "cell_type": "markdown", 
      "metadata": {}
    }, 
    {
      "execution_count": null, 
      "cell_type": "code", 
      "source": [
        "from fatiando import gridder\nimport matplotlib.pyplot as plt\nimport numpy as np\n\n# Generate some synthetic data\narea = (-100, 100, -60, 60)\nx, y = gridder.scatter(area, 1000, seed=0)\ndata = np.sin(0.1*x)*np.cos(0.1*y)\n# Select the data that fall inside \"section\"\nsection = [-40, 40, -25, 25]\n# Tip: you pass more than one data array as input. Use this to cut multiple\n# data sources (e.g., gravity + height + topography).\nx_sub, y_sub, [data_sub] = gridder.cut(x, y, [data], section)\n\n# Plot the original data besides the cut section\nplt.figure(figsize=(8, 6))\n\nplt.subplot(1, 2, 1)\nplt.axis('scaled')\nplt.title(\"Whole data\")\nplt.tricontourf(y, x, data, 30, cmap='RdBu_r')\nplt.plot(y, x, 'xk')\nx1, x2, y1, y2 = section\nplt.plot([y1, y2, y2, y1, y1], [x1, x1, x2, x2, x1], '-k', linewidth=3)\nplt.xlim(area[2:])\nplt.ylim(area[:2])\n\nplt.subplot(1, 2, 2)\nplt.axis('scaled')\nplt.title(\"Subsection\")\nplt.plot(y_sub, x_sub, 'xk')\nplt.tricontourf(y_sub, x_sub, data_sub, 30, cmap='RdBu_r')\nplt.xlim(section[2:])\nplt.ylim(section[:2])\n\nplt.tight_layout()\nplt.show()"
      ], 
      "outputs": [], 
      "metadata": {
        "collapsed": false
      }
    }
  ], 
  "metadata": {
    "kernelspec": {
      "display_name": "Python 2", 
      "name": "python2", 
      "language": "python"
    }, 
    "language_info": {
      "mimetype": "text/x-python", 
      "nbconvert_exporter": "python", 
      "name": "python", 
      "file_extension": ".py", 
      "version": "2.7.14", 
      "pygments_lexer": "ipython2", 
      "codemirror_mode": {
        "version": 2, 
        "name": "ipython"
      }
    }
  }
}