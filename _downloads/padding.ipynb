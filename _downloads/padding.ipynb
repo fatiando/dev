{
  "nbformat_minor": 0, 
  "nbformat": 4, 
  "cells": [
    {
      "execution_count": null, 
      "cell_type": "code", 
      "source": [
        "%matplotlib inline"
      ], 
      "outputs": [], 
      "metadata": {
        "collapsed": false
      }
    }, 
    {
      "source": [
        "\nPad the edges of grids using various methods\n=============================================\n\nSometimes it is useful to add some padding points to the edges of grids, for\nexample during FFT-based processing to avoid edge effects.\nFunction :func:`fatiando.gridder.pad_array` does this using various padding\nmethods.\nFunctions\n:func:`fatiando.gridder.unpad_array` (to remove padding) and\n:func:`fatiando.gridder.pad_coords` (to created padded coordinate arrays)\noffer support for common operations done while padding.\n\n"
      ], 
      "cell_type": "markdown", 
      "metadata": {}
    }, 
    {
      "execution_count": null, 
      "cell_type": "code", 
      "source": [
        "import matplotlib.pyplot as plt\nimport numpy as np\nfrom fatiando import gridder\n\n# Generate some synthetic data\narea = (-100, 100, -60, 60)\nshape = (101, 172)\n# The padding functions need data to be on a regular grid and represented by a\n# 2D numpy array. So I'll convert the outputs to 2D.\nx, y = gridder.regular(area, shape)\nx = x.reshape(shape)\ny = y.reshape(shape)\ndata = np.sin(0.1*x)*np.cos(0.09*y) + 0.001*(x**2 + y**2)\n\n# Pad arrays with all the padding options and make a single figure with all of\n# them.\nfig, axes = plt.subplots(2, 4, figsize=(10, 6), sharex=True, sharey=True)\n\nax = axes[0, 0]\nax.set_title('Original')\n# Keep all plots on the same color scale of the original data\nvmin, vmax = data.min(), data.max()\nax.pcolormesh(y, x, data, cmap='RdBu_r', vmin=vmin, vmax=vmax)\n\npadtypes = ['0', 'mean', 'edge', 'lintaper', 'reflection', 'oddreflection',\n            'oddreflectiontaper']\nfor padtype, ax in zip(padtypes, axes.ravel()[1:]):\n    padded_data, nps = gridder.pad_array(data, padtype=padtype)\n    # Get coordinate vectors\n    pad_x, pad_y = gridder.pad_coords([x, y], shape, nps)\n    padshape = padded_data.shape\n    ax.set_title(padtype)\n    ax.pcolormesh(pad_y.reshape(padshape), pad_x.reshape(padshape),\n                  padded_data, cmap='RdBu_r', vmin=vmin, vmax=vmax)\n    ax.set_xlim(pad_y.min(), pad_y.max())\n    ax.set_ylim(pad_x.min(), pad_x.max())\nplt.tight_layout(w_pad=0)\nplt.show()"
      ], 
      "outputs": [], 
      "metadata": {
        "collapsed": false
      }
    }
  ], 
  "metadata": {
    "kernelspec": {
      "display_name": "Python 2", 
      "name": "python2", 
      "language": "python"
    }, 
    "language_info": {
      "mimetype": "text/x-python", 
      "nbconvert_exporter": "python", 
      "name": "python", 
      "file_extension": ".py", 
      "version": "2.7.14", 
      "pygments_lexer": "ipython2", 
      "codemirror_mode": {
        "version": 2, 
        "name": "ipython"
      }
    }
  }
}